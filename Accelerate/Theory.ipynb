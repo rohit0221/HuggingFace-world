{
 "cells": [
  {
   "cell_type": "markdown",
   "metadata": {},
   "source": [
    "# Accelerate\n",
    "\n",
    "Accelerate is a library that enables the same PyTorch code to be run across any distributed configuration by adding just four lines of code! \n",
    "\n",
    "\n",
    "In short, training and inference at scale made simple, efficient and adaptable."
   ]
  },
  {
   "cell_type": "markdown",
   "metadata": {},
   "source": []
  }
 ],
 "metadata": {
  "language_info": {
   "name": "python"
  }
 },
 "nbformat": 4,
 "nbformat_minor": 2
}
