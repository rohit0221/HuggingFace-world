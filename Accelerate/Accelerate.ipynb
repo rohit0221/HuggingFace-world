{
 "cells": [
  {
   "cell_type": "code",
   "execution_count": 1,
   "metadata": {},
   "outputs": [],
   "source": [
    "from accelerate import Accelerator\n",
    "accelerator = Accelerator()"
   ]
  },
  {
   "cell_type": "code",
   "execution_count": 5,
   "metadata": {},
   "outputs": [
    {
     "ename": "NameError",
     "evalue": "name 'model' is not defined",
     "output_type": "error",
     "traceback": [
      "\u001b[1;31m---------------------------------------------------------------------------\u001b[0m",
      "\u001b[1;31mNameError\u001b[0m                                 Traceback (most recent call last)",
      "Cell \u001b[1;32mIn[5], line 5\u001b[0m\n\u001b[0;32m      1\u001b[0m \u001b[38;5;28;01mfrom\u001b[39;00m \u001b[38;5;21;01maccelerate\u001b[39;00m \u001b[38;5;28;01mimport\u001b[39;00m Accelerator\n\u001b[0;32m      2\u001b[0m accelerator \u001b[38;5;241m=\u001b[39m Accelerator()\n\u001b[0;32m      4\u001b[0m model, optimizer, training_dataloader, scheduler \u001b[38;5;241m=\u001b[39m accelerator\u001b[38;5;241m.\u001b[39mprepare(\n\u001b[1;32m----> 5\u001b[0m     \u001b[43mmodel\u001b[49m, optimizer, training_dataloader, scheduler\n\u001b[0;32m      6\u001b[0m )\n",
      "\u001b[1;31mNameError\u001b[0m: name 'model' is not defined"
     ]
    }
   ],
   "source": [
    "+ from accelerate import Accelerator\n",
    "+ accelerator = Accelerator()\n",
    "\n",
    "+ model, optimizer, training_dataloader, scheduler = accelerator.prepare(\n",
    "+     model, optimizer, training_dataloader, scheduler\n",
    "+ )\n",
    "\n",
    "  for batch in training_dataloader:\n",
    "      optimizer.zero_grad()\n",
    "      inputs, targets = batch\n",
    "      inputs = inputs.to(device)\n",
    "      targets = targets.to(device)\n",
    "      outputs = model(inputs)\n",
    "      loss = loss_function(outputs, targets)\n",
    "+     accelerator.backward(loss)\n",
    "      optimizer.step()\n",
    "      scheduler.step()"
   ]
  },
  {
   "cell_type": "code",
   "execution_count": null,
   "metadata": {},
   "outputs": [],
   "source": [
    "\n",
    "  for batch in training_dataloader:\n",
    "      optimizer.zero_grad()\n",
    "      inputs, targets = batch\n",
    "      inputs = inputs.to(device)\n",
    "      targets = targets.to(device)\n",
    "      outputs = model(inputs)\n",
    "      loss = loss_function(outputs, targets)\n",
    "+     accelerator.backward(loss)\n",
    "      optimizer.step()\n",
    "      scheduler.step()"
   ]
  },
  {
   "cell_type": "code",
   "execution_count": null,
   "metadata": {},
   "outputs": [],
   "source": []
  },
  {
   "cell_type": "code",
   "execution_count": null,
   "metadata": {},
   "outputs": [],
   "source": []
  },
  {
   "cell_type": "code",
   "execution_count": null,
   "metadata": {},
   "outputs": [],
   "source": []
  },
  {
   "cell_type": "code",
   "execution_count": null,
   "metadata": {},
   "outputs": [],
   "source": []
  }
 ],
 "metadata": {
  "kernelspec": {
   "display_name": "Python 3",
   "language": "python",
   "name": "python3"
  },
  "language_info": {
   "codemirror_mode": {
    "name": "ipython",
    "version": 3
   },
   "file_extension": ".py",
   "mimetype": "text/x-python",
   "name": "python",
   "nbconvert_exporter": "python",
   "pygments_lexer": "ipython3",
   "version": "3.9.20"
  }
 },
 "nbformat": 4,
 "nbformat_minor": 2
}
